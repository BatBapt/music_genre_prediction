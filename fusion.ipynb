{
 "cells": [
  {
   "cell_type": "code",
   "execution_count": 1,
   "id": "5b8753f0",
   "metadata": {},
   "outputs": [],
   "source": [
    "import numpy as np\n",
    "import matplotlib.pyplot as plt\n",
    "from PIL import Image\n",
    "import pickle\n",
    "import librosa\n",
    "import cv2\n",
    "import os"
   ]
  },
  {
   "cell_type": "code",
   "execution_count": 2,
   "id": "65862497",
   "metadata": {},
   "outputs": [],
   "source": [
    "import tensorflow as tf\n",
    "import tensorflow.keras.layers as layers\n",
    "from tensorflow.keras.preprocessing.text import Tokenizer\n",
    "from tensorflow.keras.preprocessing.sequence import pad_sequences\n",
    "from tensorflow.keras.models import Model"
   ]
  },
  {
   "cell_type": "code",
   "execution_count": 3,
   "id": "ed7ac746",
   "metadata": {},
   "outputs": [],
   "source": [
    "from sklearn.preprocessing import LabelEncoder\n",
    "from sklearn.model_selection import train_test_split\n",
    "from sklearn.metrics import confusion_matrix, classification_report"
   ]
  },
  {
   "cell_type": "code",
   "execution_count": 4,
   "id": "56376092",
   "metadata": {},
   "outputs": [],
   "source": [
    "def load_data(resize_w=250, resize_h=250, n_mfcc=13, max_len=500):\n",
    "    X_img = []\n",
    "    X_mfcc = []\n",
    "    y = []\n",
    "    for genre in os.listdir(\"images\"):\n",
    "        for img_file, audio_file in zip(os.listdir(\"images/{}\".format(genre)), os.listdir(\"audio/{}\".format(genre))):\n",
    "            img = cv2.imread(\"images/{}/{}\".format(genre, img_file))\n",
    "            if img is not None:\n",
    "                img = cv2.resize(img, (resize_w, resize_h))\n",
    "                X_img.append(img)\n",
    "                \n",
    "                audio, sr = librosa.load(\"audio/{}/{}\".format(genre, audio_file))\n",
    "                mfcc = librosa.feature.mfcc(y=audio, sr=sr, n_mfcc=n_mfcc)\n",
    "                mfcc = np.transpose(mfcc)\n",
    "                mfcc = pad_sequences([mfcc], maxlen=max_len, padding='post', truncating='post')[0]\n",
    "                \n",
    "                X_mfcc.append(mfcc)\n",
    "                \n",
    "                y.append(genre)\n",
    "                \n",
    "        print(\"Fin {}\".format(genre))\n",
    "                                        \n",
    "    return np.array(X_img), np.array(X_mfcc), np.array(y),"
   ]
  },
  {
   "cell_type": "code",
   "execution_count": 5,
   "id": "d6087a1f",
   "metadata": {},
   "outputs": [
    {
     "name": "stdout",
     "output_type": "stream",
     "text": [
      "Fin dubstep\n",
      "Fin jazz\n",
      "Fin rap\n",
      "Fin rnb\n",
      "Fin rock\n",
      "(1028, 75, 75, 3) (1028, 500, 13) (1028,)\n"
     ]
    }
   ],
   "source": [
    "X_image, X_mfcc, y, = load_data(75, 75, 13, 500)\n",
    "print(X_image.shape, X_mfcc.shape, y.shape)"
   ]
  },
  {
   "cell_type": "code",
   "execution_count": 6,
   "id": "c4ee0c30",
   "metadata": {},
   "outputs": [],
   "source": [
    "# encoder = LabelEncoder()\n",
    "# y = encoder.fit_transform(y)\n",
    "# y = tf.keras.utils.to_categorical(y, num_classes=len(encoder.classes_))\n",
    "# pickle.dump(encoder, open(\"encoder.pkl\", \"wb\"))"
   ]
  },
  {
   "cell_type": "code",
   "execution_count": 21,
   "id": "12191b91",
   "metadata": {},
   "outputs": [],
   "source": [
    "encoder = pickle.load(open(\"encoder.pkl\", \"rb\"))\n",
    "y = encoder.transform(y)\n",
    "y = tf.keras.utils.to_categorical(y, num_classes=len(encoder.classes_))"
   ]
  },
  {
   "cell_type": "code",
   "execution_count": 23,
   "id": "bc888314",
   "metadata": {},
   "outputs": [],
   "source": [
    "def partition_dataset(X1, X2, y, train_split=0.7, val_split=0.15, test_split=0.15):\n",
    "    # Calculez les indices de séparation en fonction des proportions\n",
    "    num_samples = len(X1)\n",
    "    num_train = int(train_split * num_samples)\n",
    "    num_val = int(val_split * num_samples)\n",
    "\n",
    "    # Générez un indice aléatoire de permutation\n",
    "    permutation_indices = np.random.permutation(num_samples)\n",
    "\n",
    "    # Appliquer la permutation aux deux jeux de données et aux étiquettes\n",
    "    X1_permuted = [X1[i] for i in permutation_indices]\n",
    "    X2_permuted = [X2[i] for i in permutation_indices]\n",
    "    y_permuted = [y[i] for i in permutation_indices]\n",
    "\n",
    "    # Divisez les données en ensembles d'entraînement, de validation et de test\n",
    "    X1_train = X1_permuted[:num_train]\n",
    "    X2_train = X2_permuted[:num_train]\n",
    "    y_train = y_permuted[:num_train]\n",
    "\n",
    "    X1_val = X1_permuted[num_train:num_train + num_val]\n",
    "    X2_val = X2_permuted[num_train:num_train + num_val]\n",
    "    y_val = y_permuted[num_train:num_train + num_val]\n",
    "\n",
    "    X1_test = X1_permuted[num_train + num_val:]\n",
    "    X2_test = X2_permuted[num_train + num_val:]\n",
    "    y_test = y_permuted[num_train + num_val:]\n",
    "    \n",
    "    X1_train = np.array(X1_train)\n",
    "    X2_train = np.array(X2_train)\n",
    "    y_train = np.array(y_train)\n",
    "    \n",
    "    X1_val = np.array(X1_val)\n",
    "    X2_val = np.array(X2_val)\n",
    "    y_val = np.array(y_val)\n",
    "    \n",
    "    X1_test = np.array(X1_test)\n",
    "    X2_test = np.array(X2_test)\n",
    "    y_test = np.array(y_test)\n",
    "    \n",
    "    return [X1_train, X2_train, y_train], [X1_val, X2_val, y_val], [X1_test, X2_test, y_test]"
   ]
  },
  {
   "cell_type": "code",
   "execution_count": 24,
   "id": "1fb75240",
   "metadata": {},
   "outputs": [],
   "source": [
    "train, val, test = partition_dataset(X_image, X_mfcc, y)"
   ]
  },
  {
   "cell_type": "code",
   "execution_count": 25,
   "id": "93f0d507",
   "metadata": {},
   "outputs": [],
   "source": [
    "X_train_img, X_train_mfcc, y_train = train\n",
    "X_test_img, X_test_mfcc, y_test = test\n",
    "X_val_img, X_val_mfcc, y_val = val"
   ]
  },
  {
   "cell_type": "code",
   "execution_count": 71,
   "id": "3b9f18c7",
   "metadata": {},
   "outputs": [
    {
     "name": "stdout",
     "output_type": "stream",
     "text": [
      "(719, 75, 75, 3) (155, 75, 75, 3) (154, 75, 75, 3)\n",
      "(719, 500, 13) (155, 500, 13) (154, 500, 13)\n"
     ]
    }
   ],
   "source": [
    "print(X_train_img.shape, X_test_img.shape, X_val_img.shape)\n",
    "print(X_train_mfcc.shape, X_test_mfcc.shape, X_val_mfcc.shape)"
   ]
  },
  {
   "cell_type": "code",
   "execution_count": 27,
   "id": "33b6b262",
   "metadata": {},
   "outputs": [
    {
     "data": {
      "text/plain": [
       "((719, 5), (155, 5), (154, 5))"
      ]
     },
     "execution_count": 27,
     "metadata": {},
     "output_type": "execute_result"
    }
   ],
   "source": [
    "y_train.shape, y_test.shape, y_val.shape"
   ]
  },
  {
   "cell_type": "markdown",
   "id": "1c920332",
   "metadata": {},
   "source": [
    "# Fusion"
   ]
  },
  {
   "cell_type": "code",
   "execution_count": 90,
   "id": "58ffceef",
   "metadata": {},
   "outputs": [
    {
     "name": "stdout",
     "output_type": "stream",
     "text": [
      "Model: \"model_15\"\n",
      "__________________________________________________________________________________________________\n",
      " Layer (type)                   Output Shape         Param #     Connected to                     \n",
      "==================================================================================================\n",
      " input_31 (InputLayer)          [(None, 75, 75, 3)]  0           []                               \n",
      "                                                                                                  \n",
      " input_32 (InputLayer)          [(None, 500, 13)]    0           []                               \n",
      "                                                                                                  \n",
      " conv2d_63 (Conv2D)             (None, 73, 73, 64)   1792        ['input_31[0][0]']               \n",
      "                                                                                                  \n",
      " conv1d_60 (Conv1D)             (None, 498, 64)      2560        ['input_32[0][0]']               \n",
      "                                                                                                  \n",
      " max_pooling2d_63 (MaxPooling2D  (None, 36, 36, 64)  0           ['conv2d_63[0][0]']              \n",
      " )                                                                                                \n",
      "                                                                                                  \n",
      " max_pooling1d_60 (MaxPooling1D  (None, 249, 64)     0           ['conv1d_60[0][0]']              \n",
      " )                                                                                                \n",
      "                                                                                                  \n",
      " conv2d_64 (Conv2D)             (None, 33, 33, 128)  131200      ['max_pooling2d_63[0][0]']       \n",
      "                                                                                                  \n",
      " conv1d_61 (Conv1D)             (None, 247, 128)     24704       ['max_pooling1d_60[0][0]']       \n",
      "                                                                                                  \n",
      " max_pooling2d_64 (MaxPooling2D  (None, 16, 16, 128)  0          ['conv2d_64[0][0]']              \n",
      " )                                                                                                \n",
      "                                                                                                  \n",
      " max_pooling1d_61 (MaxPooling1D  (None, 123, 128)    0           ['conv1d_61[0][0]']              \n",
      " )                                                                                                \n",
      "                                                                                                  \n",
      " conv2d_65 (Conv2D)             (None, 13, 13, 128)  262272      ['max_pooling2d_64[0][0]']       \n",
      "                                                                                                  \n",
      " conv1d_62 (Conv1D)             (None, 121, 128)     49280       ['max_pooling1d_61[0][0]']       \n",
      "                                                                                                  \n",
      " max_pooling2d_65 (MaxPooling2D  (None, 6, 6, 128)   0           ['conv2d_65[0][0]']              \n",
      " )                                                                                                \n",
      "                                                                                                  \n",
      " max_pooling1d_62 (MaxPooling1D  (None, 60, 128)     0           ['conv1d_62[0][0]']              \n",
      " )                                                                                                \n",
      "                                                                                                  \n",
      " conv2d_66 (Conv2D)             (None, 4, 4, 64)     73792       ['max_pooling2d_65[0][0]']       \n",
      "                                                                                                  \n",
      " conv1d_63 (Conv1D)             (None, 58, 64)       24640       ['max_pooling1d_62[0][0]']       \n",
      "                                                                                                  \n",
      " max_pooling2d_66 (MaxPooling2D  (None, 2, 2, 64)    0           ['conv2d_66[0][0]']              \n",
      " )                                                                                                \n",
      "                                                                                                  \n",
      " max_pooling1d_63 (MaxPooling1D  (None, 29, 64)      0           ['conv1d_63[0][0]']              \n",
      " )                                                                                                \n",
      "                                                                                                  \n",
      " global_average_pooling2d_15 (G  (None, 64)          0           ['max_pooling2d_66[0][0]']       \n",
      " lobalAveragePooling2D)                                                                           \n",
      "                                                                                                  \n",
      " global_average_pooling1d_15 (G  (None, 64)          0           ['max_pooling1d_63[0][0]']       \n",
      " lobalAveragePooling1D)                                                                           \n",
      "                                                                                                  \n",
      " concatenate_15 (Concatenate)   (None, 128)          0           ['global_average_pooling2d_15[0][\n",
      "                                                                 0]',                             \n",
      "                                                                  'global_average_pooling1d_15[0][\n",
      "                                                                 0]']                             \n",
      "                                                                                                  \n",
      " dense_30 (Dense)               (None, 64)           8256        ['concatenate_15[0][0]']         \n",
      "                                                                                                  \n",
      " dropout_15 (Dropout)           (None, 64)           0           ['dense_30[0][0]']               \n",
      "                                                                                                  \n",
      " dense_31 (Dense)               (None, 5)            325         ['dropout_15[0][0]']             \n",
      "                                                                                                  \n",
      "==================================================================================================\n",
      "Total params: 578,821\n",
      "Trainable params: 578,821\n",
      "Non-trainable params: 0\n",
      "__________________________________________________________________________________________________\n"
     ]
    }
   ],
   "source": [
    "input_img = layers.Input(shape=X_train_img[0].shape)\n",
    "img_model = layers.Conv2D(64, 3, activation=\"relu\")(input_img)\n",
    "img_model = layers.MaxPooling2D(2)(img_model)\n",
    "img_model = layers.Conv2D(128, 4, activation=\"relu\")(img_model)\n",
    "img_model = layers.MaxPooling2D(2)(img_model)\n",
    "img_model = layers.Conv2D(128, 4, activation=\"relu\")(img_model)\n",
    "img_model = layers.MaxPooling2D(2)(img_model)\n",
    "img_model = layers.Conv2D(64, 3, activation=\"relu\")(img_model)\n",
    "img_model = layers.MaxPooling2D(2)(img_model)\n",
    "img_model = layers.GlobalAvgPool2D()(img_model)\n",
    "\n",
    "input_mfcc = layers.Input(shape=X_train_mfcc[0].shape)\n",
    "mfcc_model = layers.Conv1D(64, 3, activation=\"relu\")(input_mfcc)\n",
    "mfcc_model = layers.MaxPooling1D(2)(mfcc_model)\n",
    "mfcc_model = layers.Conv1D(128, 3, activation=\"relu\")(mfcc_model)\n",
    "mfcc_model = layers.MaxPooling1D(2)(mfcc_model)\n",
    "mfcc_model = layers.Conv1D(128, 3, activation=\"relu\")(mfcc_model)\n",
    "mfcc_model = layers.MaxPooling1D(2)(mfcc_model)\n",
    "mfcc_model = layers.Conv1D(64, 3, activation=\"relu\")(mfcc_model)\n",
    "mfcc_model = layers.MaxPooling1D(2)(mfcc_model)\n",
    "mfcc_model = layers.GlobalAvgPool1D()(mfcc_model)\n",
    "\n",
    "merged = layers.concatenate([img_model, mfcc_model])\n",
    "output = layers.Dense(64, activation=\"relu\")(merged)\n",
    "output = layers.Dropout(0.3)(output)\n",
    "output = layers.Dense(len(encoder.classes_), activation=\"softmax\")(output)\n",
    "model = Model(inputs=[input_img, input_mfcc], outputs=output)\n",
    "\n",
    "\n",
    "model.summary()"
   ]
  },
  {
   "cell_type": "code",
   "execution_count": 91,
   "id": "52da0e44",
   "metadata": {},
   "outputs": [
    {
     "name": "stdout",
     "output_type": "stream",
     "text": [
      "Epoch 1/10\n",
      "23/23 [==============================] - 6s 146ms/step - loss: 6.6394 - accuracy: 0.2921 - val_loss: 1.1476 - val_accuracy: 0.4935\n",
      "Epoch 2/10\n",
      "23/23 [==============================] - 2s 90ms/step - loss: 1.2217 - accuracy: 0.4784 - val_loss: 1.0036 - val_accuracy: 0.6039\n",
      "Epoch 3/10\n",
      "23/23 [==============================] - 2s 71ms/step - loss: 1.0650 - accuracy: 0.5535 - val_loss: 0.9777 - val_accuracy: 0.6039\n",
      "Epoch 4/10\n",
      "23/23 [==============================] - 2s 91ms/step - loss: 0.9671 - accuracy: 0.6050 - val_loss: 0.9761 - val_accuracy: 0.6104\n",
      "Epoch 5/10\n",
      "23/23 [==============================] - 2s 90ms/step - loss: 0.9556 - accuracy: 0.6050 - val_loss: 0.8569 - val_accuracy: 0.6948\n",
      "Epoch 6/10\n",
      "23/23 [==============================] - 2s 74ms/step - loss: 0.9142 - accuracy: 0.6300 - val_loss: 0.8642 - val_accuracy: 0.6883\n",
      "Epoch 7/10\n",
      "23/23 [==============================] - 2s 75ms/step - loss: 0.8857 - accuracy: 0.6328 - val_loss: 0.8583 - val_accuracy: 0.6169\n",
      "Epoch 8/10\n",
      "23/23 [==============================] - 2s 73ms/step - loss: 0.8234 - accuracy: 0.6801 - val_loss: 0.7953 - val_accuracy: 0.6688\n",
      "Epoch 9/10\n",
      "23/23 [==============================] - 2s 74ms/step - loss: 0.7777 - accuracy: 0.6815 - val_loss: 0.8003 - val_accuracy: 0.6883\n",
      "Epoch 10/10\n",
      "23/23 [==============================] - 2s 73ms/step - loss: 0.7370 - accuracy: 0.7177 - val_loss: 0.7696 - val_accuracy: 0.6883\n"
     ]
    },
    {
     "data": {
      "text/plain": [
       "<keras.callbacks.History at 0x203d30fc970>"
      ]
     },
     "execution_count": 91,
     "metadata": {},
     "output_type": "execute_result"
    }
   ],
   "source": [
    "model_checkpoint_callback = tf.keras.callbacks.ModelCheckpoint(\n",
    "        filepath=\"model.h5\",\n",
    "        save_weights_only=True,\n",
    "        monitor='val_accuracy',\n",
    "        mode='max',\n",
    "        save_best_only=True\n",
    "    )\n",
    "    \n",
    "model.compile(loss=\"categorical_crossentropy\", optimizer=\"adam\", metrics=[\"accuracy\"])\n",
    "model.fit([X_train_img, X_train_mfcc], \n",
    "          y_train, \n",
    "          validation_data=([X_val_img, X_val_mfcc], y_val), \n",
    "          epochs=10, \n",
    "          callbacks=[model_checkpoint_callback]\n",
    "         )"
   ]
  },
  {
   "cell_type": "code",
   "execution_count": 92,
   "id": "369d2452",
   "metadata": {},
   "outputs": [],
   "source": [
    "model.load_weights(\"model.h5\")"
   ]
  },
  {
   "cell_type": "code",
   "execution_count": 93,
   "id": "ab18b9e1",
   "metadata": {},
   "outputs": [
    {
     "name": "stdout",
     "output_type": "stream",
     "text": [
      "5/5 [==============================] - 0s 27ms/step - loss: 0.8766 - accuracy: 0.6581\n"
     ]
    },
    {
     "data": {
      "text/plain": [
       "[0.8766364455223083, 0.6580645442008972]"
      ]
     },
     "execution_count": 93,
     "metadata": {},
     "output_type": "execute_result"
    }
   ],
   "source": [
    "model.evaluate([X_test_img, X_test_mfcc], y_test)"
   ]
  },
  {
   "cell_type": "code",
   "execution_count": 94,
   "id": "192d0a4e",
   "metadata": {},
   "outputs": [
    {
     "name": "stdout",
     "output_type": "stream",
     "text": [
      "5/5 [==============================] - 1s 21ms/step\n",
      "              precision    recall  f1-score   support\n",
      "\n",
      "           0       0.86      0.40      0.55        15\n",
      "           1       0.88      0.85      0.86        33\n",
      "           2       0.53      0.67      0.59        36\n",
      "           3       0.49      0.50      0.49        38\n",
      "           4       0.78      0.76      0.77        33\n",
      "\n",
      "    accuracy                           0.66       155\n",
      "   macro avg       0.71      0.63      0.65       155\n",
      "weighted avg       0.68      0.66      0.66       155\n",
      "\n"
     ]
    }
   ],
   "source": [
    "y_pred = np.argmax(model.predict([X_test_img, X_test_mfcc]), axis=1)\n",
    "y_true = np.argmax(y_test, axis=1)\n",
    "report = classification_report(y_true, y_pred)\n",
    "print(report)"
   ]
  },
  {
   "cell_type": "code",
   "execution_count": null,
   "id": "2fd127b6",
   "metadata": {},
   "outputs": [],
   "source": []
  },
  {
   "cell_type": "code",
   "execution_count": 35,
   "id": "b3363c68",
   "metadata": {},
   "outputs": [],
   "source": [
    "model.save(\"best_model_fusion.h5\")"
   ]
  }
 ],
 "metadata": {
  "kernelspec": {
   "display_name": "Python 3 (ipykernel)",
   "language": "python",
   "name": "python3"
  },
  "language_info": {
   "codemirror_mode": {
    "name": "ipython",
    "version": 3
   },
   "file_extension": ".py",
   "mimetype": "text/x-python",
   "name": "python",
   "nbconvert_exporter": "python",
   "pygments_lexer": "ipython3",
   "version": "3.10.11"
  }
 },
 "nbformat": 4,
 "nbformat_minor": 5
}
